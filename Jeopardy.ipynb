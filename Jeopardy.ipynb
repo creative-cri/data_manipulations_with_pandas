{
 "cells": [
  {
   "cell_type": "code",
   "execution_count": 1,
   "id": "b916b483",
   "metadata": {},
   "outputs": [
    {
     "data": {
      "text/html": [
       "<div>\n",
       "<style scoped>\n",
       "    .dataframe tbody tr th:only-of-type {\n",
       "        vertical-align: middle;\n",
       "    }\n",
       "\n",
       "    .dataframe tbody tr th {\n",
       "        vertical-align: top;\n",
       "    }\n",
       "\n",
       "    .dataframe thead th {\n",
       "        text-align: right;\n",
       "    }\n",
       "</style>\n",
       "<table border=\"1\" class=\"dataframe\">\n",
       "  <thead>\n",
       "    <tr style=\"text-align: right;\">\n",
       "      <th></th>\n",
       "      <th>show_number</th>\n",
       "      <th>air_date</th>\n",
       "      <th>round</th>\n",
       "      <th>category</th>\n",
       "      <th>value</th>\n",
       "      <th>question</th>\n",
       "      <th>answer</th>\n",
       "    </tr>\n",
       "  </thead>\n",
       "  <tbody>\n",
       "    <tr>\n",
       "      <th>0</th>\n",
       "      <td>4680</td>\n",
       "      <td>2004-12-31</td>\n",
       "      <td>Jeopardy!</td>\n",
       "      <td>HISTORY</td>\n",
       "      <td>$200</td>\n",
       "      <td>For the last 8 years of his life, Galileo was ...</td>\n",
       "      <td>Copernicus</td>\n",
       "    </tr>\n",
       "    <tr>\n",
       "      <th>1</th>\n",
       "      <td>4680</td>\n",
       "      <td>2004-12-31</td>\n",
       "      <td>Jeopardy!</td>\n",
       "      <td>ESPN's TOP 10 ALL-TIME ATHLETES</td>\n",
       "      <td>$200</td>\n",
       "      <td>No. 2: 1912 Olympian; football star at Carlisl...</td>\n",
       "      <td>Jim Thorpe</td>\n",
       "    </tr>\n",
       "    <tr>\n",
       "      <th>2</th>\n",
       "      <td>4680</td>\n",
       "      <td>2004-12-31</td>\n",
       "      <td>Jeopardy!</td>\n",
       "      <td>EVERYBODY TALKS ABOUT IT...</td>\n",
       "      <td>$200</td>\n",
       "      <td>The city of Yuma in this state has a record av...</td>\n",
       "      <td>Arizona</td>\n",
       "    </tr>\n",
       "    <tr>\n",
       "      <th>3</th>\n",
       "      <td>4680</td>\n",
       "      <td>2004-12-31</td>\n",
       "      <td>Jeopardy!</td>\n",
       "      <td>THE COMPANY LINE</td>\n",
       "      <td>$200</td>\n",
       "      <td>In 1963, live on \"The Art Linkletter Show\", th...</td>\n",
       "      <td>McDonald's</td>\n",
       "    </tr>\n",
       "    <tr>\n",
       "      <th>4</th>\n",
       "      <td>4680</td>\n",
       "      <td>2004-12-31</td>\n",
       "      <td>Jeopardy!</td>\n",
       "      <td>EPITAPHS &amp; TRIBUTES</td>\n",
       "      <td>$200</td>\n",
       "      <td>Signer of the Dec. of Indep., framer of the Co...</td>\n",
       "      <td>John Adams</td>\n",
       "    </tr>\n",
       "    <tr>\n",
       "      <th>5</th>\n",
       "      <td>4680</td>\n",
       "      <td>2004-12-31</td>\n",
       "      <td>Jeopardy!</td>\n",
       "      <td>3-LETTER WORDS</td>\n",
       "      <td>$200</td>\n",
       "      <td>In the title of an Aesop fable, this insect sh...</td>\n",
       "      <td>the ant</td>\n",
       "    </tr>\n",
       "    <tr>\n",
       "      <th>6</th>\n",
       "      <td>4680</td>\n",
       "      <td>2004-12-31</td>\n",
       "      <td>Jeopardy!</td>\n",
       "      <td>HISTORY</td>\n",
       "      <td>$400</td>\n",
       "      <td>Built in 312 B.C. to link Rome &amp; the South of ...</td>\n",
       "      <td>the Appian Way</td>\n",
       "    </tr>\n",
       "    <tr>\n",
       "      <th>7</th>\n",
       "      <td>4680</td>\n",
       "      <td>2004-12-31</td>\n",
       "      <td>Jeopardy!</td>\n",
       "      <td>ESPN's TOP 10 ALL-TIME ATHLETES</td>\n",
       "      <td>$400</td>\n",
       "      <td>No. 8: 30 steals for the Birmingham Barons; 2,...</td>\n",
       "      <td>Michael Jordan</td>\n",
       "    </tr>\n",
       "    <tr>\n",
       "      <th>8</th>\n",
       "      <td>4680</td>\n",
       "      <td>2004-12-31</td>\n",
       "      <td>Jeopardy!</td>\n",
       "      <td>EVERYBODY TALKS ABOUT IT...</td>\n",
       "      <td>$400</td>\n",
       "      <td>In the winter of 1971-72, a record 1,122 inche...</td>\n",
       "      <td>Washington</td>\n",
       "    </tr>\n",
       "    <tr>\n",
       "      <th>9</th>\n",
       "      <td>4680</td>\n",
       "      <td>2004-12-31</td>\n",
       "      <td>Jeopardy!</td>\n",
       "      <td>THE COMPANY LINE</td>\n",
       "      <td>$400</td>\n",
       "      <td>This housewares store was named for the packag...</td>\n",
       "      <td>Crate &amp; Barrel</td>\n",
       "    </tr>\n",
       "  </tbody>\n",
       "</table>\n",
       "</div>"
      ],
      "text/plain": [
       "   show_number    air_date      round                         category value  \\\n",
       "0         4680  2004-12-31  Jeopardy!                          HISTORY  $200   \n",
       "1         4680  2004-12-31  Jeopardy!  ESPN's TOP 10 ALL-TIME ATHLETES  $200   \n",
       "2         4680  2004-12-31  Jeopardy!      EVERYBODY TALKS ABOUT IT...  $200   \n",
       "3         4680  2004-12-31  Jeopardy!                 THE COMPANY LINE  $200   \n",
       "4         4680  2004-12-31  Jeopardy!              EPITAPHS & TRIBUTES  $200   \n",
       "5         4680  2004-12-31  Jeopardy!                   3-LETTER WORDS  $200   \n",
       "6         4680  2004-12-31  Jeopardy!                          HISTORY  $400   \n",
       "7         4680  2004-12-31  Jeopardy!  ESPN's TOP 10 ALL-TIME ATHLETES  $400   \n",
       "8         4680  2004-12-31  Jeopardy!      EVERYBODY TALKS ABOUT IT...  $400   \n",
       "9         4680  2004-12-31  Jeopardy!                 THE COMPANY LINE  $400   \n",
       "\n",
       "                                            question          answer  \n",
       "0  For the last 8 years of his life, Galileo was ...      Copernicus  \n",
       "1  No. 2: 1912 Olympian; football star at Carlisl...      Jim Thorpe  \n",
       "2  The city of Yuma in this state has a record av...         Arizona  \n",
       "3  In 1963, live on \"The Art Linkletter Show\", th...      McDonald's  \n",
       "4  Signer of the Dec. of Indep., framer of the Co...      John Adams  \n",
       "5  In the title of an Aesop fable, this insect sh...         the ant  \n",
       "6  Built in 312 B.C. to link Rome & the South of ...  the Appian Way  \n",
       "7  No. 8: 30 steals for the Birmingham Barons; 2,...  Michael Jordan  \n",
       "8  In the winter of 1971-72, a record 1,122 inche...      Washington  \n",
       "9  This housewares store was named for the packag...  Crate & Barrel  "
      ]
     },
     "execution_count": 1,
     "metadata": {},
     "output_type": "execute_result"
    }
   ],
   "source": [
    "#load the data\n",
    "import pandas as pd\n",
    "jeopardy = pd.read_csv(\"jeopardy.csv\")\n",
    "jeopardy.head(10)"
   ]
  },
  {
   "cell_type": "code",
   "execution_count": 2,
   "id": "1b58b5f6",
   "metadata": {},
   "outputs": [
    {
     "name": "stdout",
     "output_type": "stream",
     "text": [
      "Index(['show_number', 'air_date', 'round', 'category', 'value', 'question',\n",
      "       'answer'],\n",
      "      dtype='object')\n"
     ]
    }
   ],
   "source": [
    "print(jeopardy.columns)"
   ]
  },
  {
   "cell_type": "code",
   "execution_count": 3,
   "id": "21cd63e8",
   "metadata": {},
   "outputs": [
    {
     "name": "stdout",
     "output_type": "stream",
     "text": [
      "Index(['show_number', 'air_date', 'round', 'category', 'value', 'question',\n",
      "       'answer'],\n",
      "      dtype='object')\n"
     ]
    }
   ],
   "source": [
    "#clean the data\n",
    "jeopardy.rename(columns = {\n",
    "  ' Air Date' : 'Air Date',\n",
    "  ' Round' : 'Round',\n",
    "  ' Category' : 'Category',\n",
    "  ' Value' : 'Value',\n",
    "  ' Question' : 'Question',\n",
    "  ' Answer' : 'Answer'  \n",
    "  },\n",
    "  inplace = True)\n",
    "\n",
    "\n",
    "print(jeopardy.columns)"
   ]
  },
  {
   "cell_type": "code",
   "execution_count": 4,
   "id": "5a29f3fe",
   "metadata": {},
   "outputs": [
    {
     "name": "stdout",
     "output_type": "stream",
     "text": [
      "   show_number    air_date      round                         category value  \\\n",
      "0         4680  2004-12-31  Jeopardy!                          HISTORY  $200   \n",
      "1         4680  2004-12-31  Jeopardy!  ESPN's TOP 10 ALL-TIME ATHLETES  $200   \n",
      "2         4680  2004-12-31  Jeopardy!      EVERYBODY TALKS ABOUT IT...  $200   \n",
      "3         4680  2004-12-31  Jeopardy!                 THE COMPANY LINE  $200   \n",
      "4         4680  2004-12-31  Jeopardy!              EPITAPHS & TRIBUTES  $200   \n",
      "\n",
      "                                            question      answer  \n",
      "0  For the last 8 years of his life, Galileo was ...  Copernicus  \n",
      "1  No. 2: 1912 Olympian; football star at Carlisl...  Jim Thorpe  \n",
      "2  The city of Yuma in this state has a record av...     Arizona  \n",
      "3  In 1963, live on \"The Art Linkletter Show\", th...  McDonald's  \n",
      "4  Signer of the Dec. of Indep., framer of the Co...  John Adams  \n"
     ]
    }
   ],
   "source": [
    "print(jeopardy.head())"
   ]
  },
  {
   "cell_type": "code",
   "execution_count": 5,
   "id": "6662abb8",
   "metadata": {},
   "outputs": [
    {
     "name": "stdout",
     "output_type": "stream",
     "text": [
      "show_number     int64\n",
      "air_date       object\n",
      "round          object\n",
      "category       object\n",
      "value          object\n",
      "question       object\n",
      "answer         object\n",
      "dtype: object\n"
     ]
    }
   ],
   "source": [
    "print(jeopardy.dtypes)"
   ]
  },
  {
   "cell_type": "code",
   "execution_count": 6,
   "id": "8abb877f",
   "metadata": {},
   "outputs": [
    {
     "name": "stdout",
     "output_type": "stream",
     "text": [
      "        show_number    air_date             round  \\\n",
      "4953           3003  1997-09-24  Double Jeopardy!   \n",
      "6337           3517  1999-12-14  Double Jeopardy!   \n",
      "9191           3907  2001-09-04  Double Jeopardy!   \n",
      "11710          2903  1997-03-26  Double Jeopardy!   \n",
      "13454          4726  2005-03-07         Jeopardy!   \n",
      "...             ...         ...               ...   \n",
      "150622         1150  1989-09-08  Double Jeopardy!   \n",
      "150640         1150  1989-09-08  Double Jeopardy!   \n",
      "150880         4790  2005-06-03  Double Jeopardy!   \n",
      "151335         4289  2003-04-03         Jeopardy!   \n",
      "151746          314  1985-11-21         Jeopardy!   \n",
      "\n",
      "                            category  value  \\\n",
      "4953                    \"PH\"UN WORDS   $200   \n",
      "6337                             Y1K   $800   \n",
      "9191                  WON THE BATTLE   $800   \n",
      "11710               BRITISH MONARCHS   $600   \n",
      "13454          A NUMBER FROM 1 TO 10  $1000   \n",
      "...                              ...    ...   \n",
      "150622               BRITISH ROYALTY   $200   \n",
      "150640               BRITISH ROYALTY   $800   \n",
      "150880  20th CENTURY BRITISH HISTORY  $1200   \n",
      "151335                   LOTTO FEVER  $1000   \n",
      "151746                NURSERY RHYMES   $300   \n",
      "\n",
      "                                                 question  \\\n",
      "4953    Both England's King George V & FDR put their s...   \n",
      "6337    In retaliation for Viking raids, this \"Unready...   \n",
      "9191    This king of England beat the odds to trounce ...   \n",
      "11710   This Scotsman, the first Stuart king of Englan...   \n",
      "13454   It's the number that followed the last king of...   \n",
      "...                                                   ...   \n",
      "150622  The only king of England named Stephen was the...   \n",
      "150640          England had this many kings named Richard   \n",
      "150880  During Stanley Baldwin's term as P.M., this Ki...   \n",
      "151335  2000 saw a fight in England over running the l...   \n",
      "151746  Colchester, England was named for this legenda...   \n",
      "\n",
      "                              answer  \n",
      "4953    Philately (stamp collecting)  \n",
      "6337                        Ethelred  \n",
      "9191                         Henry V  \n",
      "11710                        James I  \n",
      "13454                              4  \n",
      "...                              ...  \n",
      "150622         William the Conqueror  \n",
      "150640                             3  \n",
      "150880              King Edward VIII  \n",
      "151335               Richard Branson  \n",
      "151746                 Old King Cole  \n",
      "\n",
      "[106 rows x 7 columns]\n"
     ]
    }
   ],
   "source": [
    "#search via question\n",
    "def filtered_data(data, words):\n",
    "    filter = lambda x: all(word.lower() in x.lower() for word in words)\n",
    "    return data.loc[data['question'].apply(filter)]\n",
    "\n",
    "filtered = filtered_data(jeopardy, [\"King\", \"England\"])\n",
    "print(filtered)"
   ]
  },
  {
   "cell_type": "code",
   "execution_count": 7,
   "id": "774e2846",
   "metadata": {},
   "outputs": [
    {
     "name": "stdout",
     "output_type": "stream",
     "text": [
      "   show_number    air_date      round                         category  value  \\\n",
      "0         4680  2004-12-31  Jeopardy!                          HISTORY  200.0   \n",
      "1         4680  2004-12-31  Jeopardy!  ESPN's TOP 10 ALL-TIME ATHLETES  200.0   \n",
      "2         4680  2004-12-31  Jeopardy!      EVERYBODY TALKS ABOUT IT...  200.0   \n",
      "3         4680  2004-12-31  Jeopardy!                 THE COMPANY LINE  200.0   \n",
      "4         4680  2004-12-31  Jeopardy!              EPITAPHS & TRIBUTES  200.0   \n",
      "\n",
      "                                            question      answer  \n",
      "0  For the last 8 years of his life, Galileo was ...  Copernicus  \n",
      "1  No. 2: 1912 Olympian; football star at Carlisl...  Jim Thorpe  \n",
      "2  The city of Yuma in this state has a record av...     Arizona  \n",
      "3  In 1963, live on \"The Art Linkletter Show\", th...  McDonald's  \n",
      "4  Signer of the Dec. of Indep., framer of the Co...  John Adams  \n"
     ]
    }
   ],
   "source": [
    "#remove $ + convertion to a float\n",
    "jeopardy['value'] = jeopardy['value'].apply(lambda x: float(x[1:].replace(',','')) if x != \"None\" else 0)\n",
    "\n",
    "\n",
    "print(jeopardy.head())"
   ]
  },
  {
   "cell_type": "code",
   "execution_count": 8,
   "id": "e16986e3",
   "metadata": {},
   "outputs": [
    {
     "name": "stdout",
     "output_type": "stream",
     "text": [
      "show_number      int64\n",
      "air_date        object\n",
      "round           object\n",
      "category        object\n",
      "value          float64\n",
      "question        object\n",
      "answer          object\n",
      "dtype: object\n"
     ]
    }
   ],
   "source": [
    "print(jeopardy.dtypes)"
   ]
  },
  {
   "cell_type": "code",
   "execution_count": 9,
   "id": "2e819eee",
   "metadata": {},
   "outputs": [
    {
     "name": "stdout",
     "output_type": "stream",
     "text": [
      "774.9714285714285\n"
     ]
    }
   ],
   "source": [
    "#find average value of the world which involve word king\n",
    "filtered = filtered_data(jeopardy, [\"king\"])\n",
    "print(filtered['value'].mean())"
   ]
  },
  {
   "cell_type": "code",
   "execution_count": 10,
   "id": "f6b74fd8",
   "metadata": {},
   "outputs": [
    {
     "name": "stdout",
     "output_type": "stream",
     "text": [
      "Henry VIII                         40\n",
      "Solomon                            27\n",
      "Louis XIV                          24\n",
      "Richard III                        23\n",
      "Sweden                             21\n",
      "                                   ..\n",
      "chocolate                           1\n",
      "camel                               1\n",
      "Betty Crocker                       1\n",
      "Halle Berry                         1\n",
      "Union Pacific & Central Pacific     1\n",
      "Name: answer, Length: 3929, dtype: int64\n"
     ]
    }
   ],
   "source": [
    "def answer_counts(data):\n",
    "    return data['answer'].value_counts()\n",
    "\n",
    "print(answer_counts(filtered))"
   ]
  }
 ],
 "metadata": {
  "kernelspec": {
   "display_name": "Python 3 (ipykernel)",
   "language": "python",
   "name": "python3"
  },
  "language_info": {
   "codemirror_mode": {
    "name": "ipython",
    "version": 3
   },
   "file_extension": ".py",
   "mimetype": "text/x-python",
   "name": "python",
   "nbconvert_exporter": "python",
   "pygments_lexer": "ipython3",
   "version": "3.9.7"
  }
 },
 "nbformat": 4,
 "nbformat_minor": 5
}
